{
 "cells": [
  {
   "cell_type": "markdown",
   "metadata": {},
   "source": [
    "# Excess deaths due to COVID-19"
   ]
  },
  {
   "cell_type": "code",
   "execution_count": null,
   "metadata": {},
   "outputs": [],
   "source": [
    "import arviz as az\n",
    "import pandas as pd\n",
    "\n",
    "import causalpy as cp"
   ]
  },
  {
   "cell_type": "code",
   "execution_count": null,
   "metadata": {},
   "outputs": [],
   "source": [
    "%load_ext autoreload\n",
    "%autoreload 2\n",
    "# %config InlineBackend.figure_format = 'retina'\n",
    "seed = 42"
   ]
  },
  {
   "cell_type": "markdown",
   "metadata": {},
   "source": [
    "## Load data"
   ]
  },
  {
   "cell_type": "code",
   "execution_count": null,
   "metadata": {},
   "outputs": [],
   "source": [
    "df = (\n",
    "    cp.load_data(\"covid\")\n",
    "    .assign(date=lambda x: pd.to_datetime(x[\"date\"]))\n",
    "    .set_index(\"date\")\n",
    ")\n",
    "df[\"variable\"] = [\"deaths\"] * len(df)\n",
    "treatment_time = pd.to_datetime(\"2020-01-01\")\n",
    "df.head()"
   ]
  },
  {
   "cell_type": "markdown",
   "metadata": {},
   "source": [
    "The columns are:\n",
    "\n",
    "* `date` + `year`: self explanatory\n",
    "* `month`: month, numerically encoded. Needs to be treated as a categorical variable\n",
    "* `temp`: average UK temperature (Celcius)\n",
    "* `t`: time\n",
    "* `pre`: boolean flag indicating pre or post intervention"
   ]
  },
  {
   "attachments": {},
   "cell_type": "markdown",
   "metadata": {},
   "source": [
    "## Run the analysis\n",
    "\n",
    "In this example we are going to standardize the data. So we have to be careful in how we interpret the inferred regression coefficients, and the posterior predictions will be in this standardized space.\n",
    "\n",
    "<div class=\"alert alert-info\">\n",
    "\n",
    "Note:\n",
    "\n",
    "The `random_seed` keyword argument for the PyMC sampler is not neccessary. We use it here so that the results are reproducible.\n",
    "\n",
    "</div>"
   ]
  },
  {
   "cell_type": "code",
   "execution_count": null,
   "metadata": {},
   "outputs": [],
   "source": [
    "result = cp.pymc_experiments.SyntheticControl(\n",
    "    df,\n",
    "    \"variable\",\n",
    "    treatment_time,\n",
    "    formula=\"standardize(deaths) ~ 0 + standardize(t) + C(month) + standardize(temp)\",\n",
    "    model=cp.pymc_models.LinearRegression(sample_kwargs={\"random_seed\": seed}),\n",
    ")"
   ]
  },
  {
   "cell_type": "code",
   "execution_count": null,
   "metadata": {},
   "outputs": [],
   "source": [
    "fig, ax = result.plot(plot_predictors=False, variable=\"deaths\", hdi_prob=0.94)"
   ]
  }
 ],
 "metadata": {
  "kernelspec": {
   "display_name": "CausalPy",
   "language": "python",
   "name": "python3"
  },
  "language_info": {
   "codemirror_mode": {
    "name": "ipython",
    "version": 3
   },
   "file_extension": ".py",
   "mimetype": "text/x-python",
   "name": "python",
   "nbconvert_exporter": "python",
   "pygments_lexer": "ipython3",
   "version": "3.11.3"
  },
  "orig_nbformat": 4,
  "vscode": {
   "interpreter": {
    "hash": "02f5385db19eab57520277c5168790c7855381ee953bdbb5c89c321e1f17586e"
   }
  }
 },
 "nbformat": 4,
 "nbformat_minor": 2
}
